{
 "cells": [
  {
   "cell_type": "markdown",
   "metadata": {},
   "source": [
    "# 1. 迷宫问题"
   ]
  },
  {
   "cell_type": "code",
   "execution_count": null,
   "metadata": {},
   "outputs": [],
   "source": [
    "maze = [\n",
    "        [1, 1, 1, 1, 1, 1, 1],\n",
    "        [1, 0, 0, 0, 0, 0, 1],\n",
    "        [1, 0, 1, 1, 1, 1, 1],\n",
    "        [1, 0, 1, 0, 0, 0, 1],\n",
    "        [1, 0, 0, 0, 1, 1, 1],\n",
    "        [1, 1, 0, 0, 0, 0, 1],\n",
    "        [1, 1, 1, 1, 1, 1, 1]\n",
    "    ]"
   ]
  },
  {
   "cell_type": "code",
   "execution_count": null,
   "metadata": {},
   "outputs": [],
   "source": [
    "def maze_path(maze, start, end):\n",
    "    \"\"\"\n",
    "    maze: 迷宫\n",
    "    start: 开始位置\n",
    "    end: 结束位置\n",
    "    \"\"\"\n",
    "    is_way = 0\n",
    "    is_wall = 1\n",
    "    is_visited = 2\n",
    "    row = len(maze)\n",
    "    col = len(maze)\n",
    "    \n",
    "    maze[start[0]][start[1]] = is_visited\n",
    "    _path = [start]\n",
    "    \n",
    "    if start == end:\n",
    "        return _path\n",
    "    else:\n",
    "        while True:\n",
    "            print(_path)\n",
    "            x = _path[-1][0]\n",
    "            y = _path[-1][1]\n",
    "            \n",
    "            if (x, y) == end:\n",
    "                break\n",
    "\n",
    "            if  x+1 < row and maze[x+1][y] == is_way:  # 向下走\n",
    "                _path.append((x+1, y))\n",
    "                maze[x+1][y] = is_visited\n",
    "\n",
    "            elif y+1 < col and maze[x][y+1] == is_way:\n",
    "                _path.append((x, y+1))\n",
    "                maze[x][y+1] = is_visited\n",
    "\n",
    "\n",
    "            elif x-1 > 0 and maze[x-1][y] == is_way:\n",
    "                _path.append((x-1, y))\n",
    "                maze[x-1][y] = is_visited\n",
    "\n",
    "            elif y-1 > 0 and maze[x][y-1] == is_way:\n",
    "                _path.append((x, y-1))\n",
    "                maze[x][y-1] = is_visited\n",
    "            else:\n",
    "                maze[_path[-1][0]][_path[-1][1]] = is_way\n",
    "                _path.pop()\n",
    "           \n",
    "            \n",
    "            \n",
    "    return _path\n",
    "   \n",
    "    "
   ]
  },
  {
   "cell_type": "code",
   "execution_count": 27,
   "metadata": {},
   "outputs": [],
   "source": [
    "from pprint import pprint\n",
    "\n",
    "dirs = [\n",
    "    lambda x, y: (x+1, y), # 下\n",
    "    lambda x, y: (x-1, y), # 上\n",
    "    lambda x, y: (x, y-1), #　左\n",
    "    lambda x, y: (x, y+1), # 右\n",
    "]\n",
    "\n",
    "def maze_stack(maze, start, end):\n",
    "    \"\"\"\n",
    "    maze: 迷宫矩阵\n",
    "    start: 起始位置\n",
    "    end: 目标位置\n",
    "    \"\"\"\n",
    "    \n",
    "    stack = []\n",
    "    stack.append(start)\n",
    "    \n",
    "    while len(stack) > 0:\n",
    "        curNode = stack[-1]  # 当前位置的坐标\n",
    "        print(stack)\n",
    "        #pprint(maze)\n",
    "        if curNode == end:\n",
    "            print(\"The path is:\\n\")\n",
    "            print(stack)\n",
    "            return True\n",
    "        # 往四个方向移动\n",
    "        for _dir in dirs:\n",
    "            nextNode = _dir(curNode[0], curNode[1])\n",
    "            if maze[nextNode[0]][nextNode[1]] == 0:\n",
    "                stack.append(nextNode)\n",
    "                maze[nextNode[0]][nextNode[1]] = 2\n",
    "                break\n",
    "        else:\n",
    "            maze[nextNode[0]][nextNode[1]] = 2\n",
    "            stack.pop()\n",
    "    else:\n",
    "        print(\"No path\")\n",
    "        return False\n",
    "    \n",
    "maze = [\n",
    "        [1, 1, 1, 1, 1, 1, 1],\n",
    "        [1, 0, 0, 0, 0, 0, 1],\n",
    "        [1, 0, 1, 1, 1, 1, 1],\n",
    "        [1, 0, 1, 0, 0, 0, 1],\n",
    "        [1, 0, 0, 0, 1, 1, 1],\n",
    "        [1, 1, 0, 0, 0, 0, 1],\n",
    "        [1, 1, 1, 1, 1, 1, 1]\n",
    "    ]"
   ]
  },
  {
   "cell_type": "code",
   "execution_count": 28,
   "metadata": {},
   "outputs": [
    {
     "name": "stdout",
     "output_type": "stream",
     "text": [
      "[(1, 1)]\n",
      "[(1, 1), (2, 1)]\n",
      "[(1, 1), (2, 1), (3, 1)]\n",
      "[(1, 1), (2, 1), (3, 1), (4, 1)]\n",
      "[(1, 1), (2, 1), (3, 1), (4, 1), (4, 2)]\n",
      "[(1, 1), (2, 1), (3, 1), (4, 1), (4, 2), (5, 2)]\n",
      "[(1, 1), (2, 1), (3, 1), (4, 1), (4, 2), (5, 2), (5, 3)]\n",
      "[(1, 1), (2, 1), (3, 1), (4, 1), (4, 2), (5, 2), (5, 3), (4, 3)]\n",
      "[(1, 1), (2, 1), (3, 1), (4, 1), (4, 2), (5, 2), (5, 3), (4, 3), (3, 3)]\n",
      "[(1, 1), (2, 1), (3, 1), (4, 1), (4, 2), (5, 2), (5, 3), (4, 3), (3, 3), (3, 4)]\n",
      "[(1, 1), (2, 1), (3, 1), (4, 1), (4, 2), (5, 2), (5, 3), (4, 3), (3, 3), (3, 4), (3, 5)]\n",
      "[(1, 1), (2, 1), (3, 1), (4, 1), (4, 2), (5, 2), (5, 3), (4, 3), (3, 3), (3, 4)]\n",
      "[(1, 1), (2, 1), (3, 1), (4, 1), (4, 2), (5, 2), (5, 3), (4, 3), (3, 3)]\n",
      "[(1, 1), (2, 1), (3, 1), (4, 1), (4, 2), (5, 2), (5, 3), (4, 3)]\n",
      "[(1, 1), (2, 1), (3, 1), (4, 1), (4, 2), (5, 2), (5, 3)]\n",
      "[(1, 1), (2, 1), (3, 1), (4, 1), (4, 2), (5, 2), (5, 3), (5, 4)]\n",
      "[(1, 1), (2, 1), (3, 1), (4, 1), (4, 2), (5, 2), (5, 3), (5, 4), (5, 5)]\n",
      "The path is:\n",
      "\n",
      "[(1, 1), (2, 1), (3, 1), (4, 1), (4, 2), (5, 2), (5, 3), (5, 4), (5, 5)]\n"
     ]
    },
    {
     "data": {
      "text/plain": [
       "True"
      ]
     },
     "execution_count": 28,
     "metadata": {},
     "output_type": "execute_result"
    }
   ],
   "source": [
    "maze_stack(maze, (1, 1), (5, 5))"
   ]
  },
  {
   "cell_type": "code",
   "execution_count": null,
   "metadata": {},
   "outputs": [],
   "source": []
  },
  {
   "cell_type": "code",
   "execution_count": null,
   "metadata": {},
   "outputs": [],
   "source": []
  }
 ],
 "metadata": {
  "kernelspec": {
   "display_name": "Python 3",
   "language": "python",
   "name": "python3"
  },
  "language_info": {
   "codemirror_mode": {
    "name": "ipython",
    "version": 3
   },
   "file_extension": ".py",
   "mimetype": "text/x-python",
   "name": "python",
   "nbconvert_exporter": "python",
   "pygments_lexer": "ipython3",
   "version": "3.7.4"
  }
 },
 "nbformat": 4,
 "nbformat_minor": 2
}
