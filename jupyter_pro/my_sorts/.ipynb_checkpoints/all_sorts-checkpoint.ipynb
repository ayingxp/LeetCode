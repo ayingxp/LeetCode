{
 "cells": [
  {
   "cell_type": "markdown",
   "metadata": {},
   "source": [
    "# 1. 堆排序\n",
    "\n",
    "## 大根堆\n",
    "- 任一结点都比孩子结点大\n",
    "\n",
    "## 小根堆\n",
    "- 任一结点都比孩子结点小\n",
    "\n",
    "## 堆的调整\n",
    "- 向下调整\n",
    "    - 出堆过程中，如果是大根堆，则把需要调节的根结点和其较大的孩子结点相互替换\n",
    "    - 出堆过程中，如果是小根堆，则把需要调节的根结点和其较小的孩子结点相互替换\n",
    "- 向上调整\n",
    "    - 建堆的过程中，自下而上调整来建立堆\n",
    "\n",
    "## 堆排序过程\n",
    "- 建堆\n",
    "- 出堆\n",
    "- 调整"
   ]
  },
  {
   "cell_type": "code",
   "execution_count": 19,
   "metadata": {},
   "outputs": [],
   "source": [
    "def sift(data, low, high):\n",
    "    '''\n",
    "    调整堆的过程\n",
    "    \n",
    "    data: 待调整的堆（用列表表示）\n",
    "    \n",
    "    low: 堆的根结点位置\n",
    "    \n",
    "    high: 堆的最后一个元素位置\n",
    "    \n",
    "    '''\n",
    "    i = low  # 当前结点\n",
    "    j = 2 * i + 1 # 当前结点的孩子结点, j开始是左结点\n",
    "    \n",
    "    tmp = data[i]\n",
    "    \n",
    "    while j <= high:\n",
    "        if j + 1 <= high and data[j+1] > data[j]:  # 右结点存在，且比较大\n",
    "            j = j + 1   # 如果右结点大， 则用右结点的值\n",
    "        if data[j] > tmp:\n",
    "            data[i] = data[j]\n",
    "            i = j   # 往下看一层\n",
    "            j = 2*i + 1\n",
    "        else:\n",
    "            data[i] = tmp  # 把tmp放在某一结点上\n",
    "            break\n",
    "    else:\n",
    "        data[i] = tmp  # 把tmp放到叶子结点\n",
    "\n",
    "\n",
    "def heap_sort(data):\n",
    "    n = len(data)\n",
    "    \n",
    "    # 建堆, 从包含最后一个叶子结点的子树进行调整， 即自下而上\n",
    "    for i in range((n-2)//2, -1, -1):\n",
    "        sift(data, i, n-1)\n",
    "    \n",
    "    ######################\n",
    "    \n",
    "    for i in range(n-1,-1, -1):\n",
    "        # i 指向当前堆的最后一个元素\n",
    "        data[0], data[i] = data[i], data[0]\n",
    "        sift(data, 0, i-1)"
   ]
  },
  {
   "cell_type": "code",
   "execution_count": 20,
   "metadata": {},
   "outputs": [],
   "source": [
    "import random\n",
    "\n",
    "data = [i for i in range(100)]\n",
    "random.shuffle(data)\n",
    "\n",
    "# print(data)\n",
    "\n",
    "heap_sort(data)\n",
    "\n",
    "# print(data)\n"
   ]
  },
  {
   "cell_type": "markdown",
   "metadata": {},
   "source": [
    "# 2.  归并排序"
   ]
  },
  {
   "cell_type": "code",
   "execution_count": 25,
   "metadata": {},
   "outputs": [],
   "source": [
    "def merge(data, low, mid, high):\n",
    "    \"\"\"\n",
    "    两段有序的列表data, data[low, mid], data[mid+1, high]\n",
    "    \"\"\"\n",
    "    i = low\n",
    "    j = mid + 1\n",
    "    \n",
    "    result = []\n",
    "    \n",
    "    while i <= mid and j <= high:\n",
    "        if data[i] < data[j]:\n",
    "            result.append(data[i])\n",
    "            i += 1\n",
    "        else:\n",
    "            result.append(data[j])\n",
    "            j += 1\n",
    "            \n",
    "    while i <= mid:\n",
    "        result.append(data[i])\n",
    "        i += 1\n",
    "        \n",
    "    while j <= mid:\n",
    "        result.append(data[j])\n",
    "        j += 1\n",
    "    \n",
    "    data[low:high+1] = result\n",
    "    \n",
    "\n",
    "def merge_sort(data, low, high):\n",
    "    if low < high:\n",
    "        mid = (low + high) // 2\n",
    "        merge_sort(data, low, mid)\n",
    "        merge_sor(data, mid+1, high)\n",
    "        merge(data, low, mid, high)\n",
    "    \n",
    "            "
   ]
  },
  {
   "cell_type": "code",
   "execution_count": 27,
   "metadata": {},
   "outputs": [
    {
     "ename": "TypeError",
     "evalue": "merge_sort() takes 3 positional arguments but 4 were given",
     "output_type": "error",
     "traceback": [
      "\u001b[0;31m---------------------------------------------------------------------------\u001b[0m",
      "\u001b[0;31mTypeError\u001b[0m                                 Traceback (most recent call last)",
      "\u001b[0;32m<ipython-input-27-185dfca74954>\u001b[0m in \u001b[0;36m<module>\u001b[0;34m\u001b[0m\n\u001b[1;32m      1\u001b[0m \u001b[0mdata\u001b[0m \u001b[0;34m=\u001b[0m \u001b[0;34m[\u001b[0m\u001b[0;36m2\u001b[0m\u001b[0;34m,\u001b[0m\u001b[0;36m4\u001b[0m\u001b[0;34m,\u001b[0m\u001b[0;36m5\u001b[0m\u001b[0;34m,\u001b[0m\u001b[0;36m7\u001b[0m\u001b[0;34m,\u001b[0m\u001b[0;36m1\u001b[0m\u001b[0;34m,\u001b[0m\u001b[0;36m3\u001b[0m\u001b[0;34m,\u001b[0m\u001b[0;36m6\u001b[0m\u001b[0;34m,\u001b[0m\u001b[0;36m8\u001b[0m\u001b[0;34m]\u001b[0m\u001b[0;34m\u001b[0m\u001b[0;34m\u001b[0m\u001b[0m\n\u001b[0;32m----> 2\u001b[0;31m \u001b[0mmerge_sort\u001b[0m\u001b[0;34m(\u001b[0m\u001b[0mdata\u001b[0m\u001b[0;34m,\u001b[0m \u001b[0;36m0\u001b[0m\u001b[0;34m,\u001b[0m \u001b[0;36m3\u001b[0m\u001b[0;34m,\u001b[0m \u001b[0;36m7\u001b[0m\u001b[0;34m)\u001b[0m\u001b[0;34m\u001b[0m\u001b[0;34m\u001b[0m\u001b[0m\n\u001b[0m\u001b[1;32m      3\u001b[0m \u001b[0mprint\u001b[0m\u001b[0;34m(\u001b[0m\u001b[0mdata\u001b[0m\u001b[0;34m)\u001b[0m\u001b[0;34m\u001b[0m\u001b[0;34m\u001b[0m\u001b[0m\n",
      "\u001b[0;31mTypeError\u001b[0m: merge_sort() takes 3 positional arguments but 4 were given"
     ]
    }
   ],
   "source": [
    "data = [2,4,5,7,1,3,6,8]\n",
    "merge_sort(data, 0, 7)\n",
    "print(data)"
   ]
  },
  {
   "cell_type": "code",
   "execution_count": 26,
   "metadata": {},
   "outputs": [
    {
     "name": "stdout",
     "output_type": "stream",
     "text": [
      "1\n"
     ]
    }
   ],
   "source": [
    "print(3//2)"
   ]
  },
  {
   "cell_type": "code",
   "execution_count": null,
   "metadata": {},
   "outputs": [],
   "source": []
  }
 ],
 "metadata": {
  "kernelspec": {
   "display_name": "Python 3",
   "language": "python",
   "name": "python3"
  },
  "language_info": {
   "codemirror_mode": {
    "name": "ipython",
    "version": 3
   },
   "file_extension": ".py",
   "mimetype": "text/x-python",
   "name": "python",
   "nbconvert_exporter": "python",
   "pygments_lexer": "ipython3",
   "version": "3.7.4"
  }
 },
 "nbformat": 4,
 "nbformat_minor": 2
}
