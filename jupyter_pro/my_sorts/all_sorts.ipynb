{
 "cells": [
  {
   "cell_type": "markdown",
   "metadata": {},
   "source": [
    "# 堆排序\n",
    "\n",
    "## 大根堆\n",
    "- 任一结点都比孩子结点大\n",
    "\n",
    "## 小根堆\n",
    "- 任一结点都比孩子结点小\n",
    "\n",
    "## 堆的调整\n",
    "- 向下调整\n",
    "    - 出堆过程中，如果是大根堆，则把需要调节的根结点和其较大的孩子结点相互替换\n",
    "    - 出堆过程中，如果是小根堆，则把需要调节的根结点和其较小的孩子结点相互替换\n",
    "- 向上调整\n",
    "    - 建堆的过程中，自下而上调整来建立堆\n",
    "\n",
    "## 堆排序过程\n",
    "- 建堆\n",
    "- 出堆\n",
    "    - 调整过程中，用最后一个元素替换根元素\n",
    "- 调整"
   ]
  },
  {
   "cell_type": "code",
   "execution_count": 3,
   "metadata": {},
   "outputs": [],
   "source": [
    "def sift(data, low, high):\n",
    "    pass\n",
    "\n",
    "\n",
    "def heap_sort(data):\n",
    "    pass"
   ]
  },
  {
   "cell_type": "code",
   "execution_count": null,
   "metadata": {},
   "outputs": [],
   "source": []
  }
 ],
 "metadata": {
  "kernelspec": {
   "display_name": "Python 3",
   "language": "python",
   "name": "python3"
  },
  "language_info": {
   "codemirror_mode": {
    "name": "ipython",
    "version": 3
   },
   "file_extension": ".py",
   "mimetype": "text/x-python",
   "name": "python",
   "nbconvert_exporter": "python",
   "pygments_lexer": "ipython3",
   "version": "3.7.4"
  }
 },
 "nbformat": 4,
 "nbformat_minor": 2
}
