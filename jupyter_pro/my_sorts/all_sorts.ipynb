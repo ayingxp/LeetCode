{
 "cells": [
  {
   "cell_type": "markdown",
   "metadata": {},
   "source": [
    "# 堆排序\n",
    "\n",
    "## 大根堆\n",
    "- 任一结点都比孩子结点大\n",
    "\n",
    "## 小根堆\n",
    "- 任一结点都比孩子结点小\n",
    "\n",
    "## 堆的调整\n",
    "- 向下调整\n",
    "    - 出堆过程中，如果是大根堆，则把需要调节的根结点和其较大的孩子结点相互替换\n",
    "    - 出堆过程中，如果是小根堆，则把需要调节的根结点和其较小的孩子结点相互替换\n",
    "- 向上调整\n",
    "    - 建堆的过程中，自下而上调整来建立堆\n",
    "\n",
    "## 堆排序过程\n",
    "- 建堆\n",
    "- 出堆\n",
    "- 调整"
   ]
  },
  {
   "cell_type": "code",
   "execution_count": 19,
   "metadata": {},
   "outputs": [],
   "source": [
    "def sift(data, low, high):\n",
    "    '''\n",
    "    调整堆的过程\n",
    "    \n",
    "    data: 待调整的堆（用列表表示）\n",
    "    \n",
    "    low: 堆的根结点位置\n",
    "    \n",
    "    high: 堆的最后一个元素位置\n",
    "    \n",
    "    '''\n",
    "    i = low  # 当前结点\n",
    "    j = 2 * i + 1 # 当前结点的孩子结点, j开始是左结点\n",
    "    \n",
    "    tmp = data[i]\n",
    "    \n",
    "    while j <= high:\n",
    "        if j + 1 <= high and data[j+1] > data[j]:  # 右结点存在，且比较大\n",
    "            j = j + 1   # 如果右结点大， 则用右结点的值\n",
    "        if data[j] > tmp:\n",
    "            data[i] = data[j]\n",
    "            i = j   # 往下看一层\n",
    "            j = 2*i + 1\n",
    "        else:\n",
    "            data[i] = tmp  # 把tmp放在某一结点上\n",
    "            break\n",
    "    else:\n",
    "        data[i] = tmp  # 把tmp放到叶子结点\n",
    "\n",
    "\n",
    "def heap_sort(data):\n",
    "    n = len(data)\n",
    "    \n",
    "    # 建堆, 从包含最后一个叶子结点的子树进行调整， 即自下而上\n",
    "    for i in range((n-2)//2, -1, -1):\n",
    "        sift(data, i, n-1)\n",
    "    \n",
    "    ######################\n",
    "    \n",
    "    for i in range(n-1,-1, -1):\n",
    "        # i 指向当前堆的最后一个元素\n",
    "        data[0], data[i] = data[i], data[0]\n",
    "        sift(data, 0, i-1)"
   ]
  },
  {
   "cell_type": "code",
   "execution_count": 18,
   "metadata": {},
   "outputs": [
    {
     "name": "stdout",
     "output_type": "stream",
     "text": [
      "[55, 37, 58, 49, 85, 28, 33, 4, 41, 99, 11, 72, 20, 17, 9, 46, 64, 84, 54, 97, 10, 68, 50, 96, 75, 79, 30, 24, 14, 87, 83, 62, 43, 60, 92, 19, 77, 65, 29, 93, 3, 31, 56, 21, 52, 39, 70, 35, 86, 27, 13, 47, 74, 69, 26, 66, 36, 90, 53, 16, 34, 78, 44, 12, 95, 7, 81, 89, 48, 98, 80, 18, 63, 23, 67, 22, 38, 61, 6, 8, 71, 57, 51, 1, 45, 2, 5, 59, 32, 0, 94, 73, 42, 76, 88, 25, 40, 15, 82, 91]\n",
      "[0, 1, 2, 3, 4, 5, 6, 7, 8, 9, 10, 11, 12, 13, 14, 15, 16, 17, 18, 19, 20, 21, 22, 23, 24, 25, 26, 27, 28, 29, 30, 31, 32, 33, 34, 35, 36, 37, 38, 39, 40, 41, 42, 43, 44, 45, 46, 47, 48, 49, 50, 51, 52, 53, 54, 55, 56, 57, 58, 59, 60, 61, 62, 63, 64, 65, 66, 67, 68, 69, 70, 71, 72, 73, 74, 75, 76, 77, 78, 79, 80, 81, 82, 83, 84, 85, 86, 87, 88, 89, 90, 91, 92, 93, 94, 95, 96, 97, 98, 99]\n"
     ]
    }
   ],
   "source": [
    "import random\n",
    "\n",
    "data = [i for i in range(100)]\n",
    "random.shuffle(data)\n",
    "\n",
    "print(data)\n",
    "\n",
    "heap_sort(data)\n",
    "\n",
    "print(data)\n"
   ]
  },
  {
   "cell_type": "code",
   "execution_count": null,
   "metadata": {},
   "outputs": [],
   "source": []
  }
 ],
 "metadata": {
  "kernelspec": {
   "display_name": "Python 3",
   "language": "python",
   "name": "python3"
  },
  "language_info": {
   "codemirror_mode": {
    "name": "ipython",
    "version": 3
   },
   "file_extension": ".py",
   "mimetype": "text/x-python",
   "name": "python",
   "nbconvert_exporter": "python",
   "pygments_lexer": "ipython3",
   "version": "3.7.4"
  }
 },
 "nbformat": 4,
 "nbformat_minor": 2
}
